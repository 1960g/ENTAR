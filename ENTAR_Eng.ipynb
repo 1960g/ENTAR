{
  "nbformat": 4,
  "nbformat_minor": 0,
  "metadata": {
    "accelerator": "GPU",
    "colab": {
      "name": "ENTAR Eng",
      "provenance": [],
      "collapsed_sections": [
        "c7VjlYb2H9Ph",
        "ECm1EEXpPaTZ",
        "ZjPqTBNoohK9",
        "4AVBicY8T8XY",
        "148dzAWOTw29",
        "a165mYFXow8I",
        "lEhNSwi50Wa5",
        "hCmtWECtAE8X",
        "m0S8PshiV_aq",
        "Uu22Uwc3V_aw",
        "rDF6s4jYYF7I"
      ],
      "machine_shape": "hm",
      "include_colab_link": true
    },
    "kernelspec": {
      "display_name": "Python 3",
      "language": "python",
      "name": "python3"
    },
    "language_info": {
      "codemirror_mode": {
        "name": "ipython",
        "version": 3
      },
      "file_extension": ".py",
      "mimetype": "text/x-python",
      "name": "python",
      "nbconvert_exporter": "python",
      "pygments_lexer": "ipython3",
      "version": "3.7.0"
    }
  },
  "cells": [
    {
      "cell_type": "markdown",
      "metadata": {
        "id": "view-in-github",
        "colab_type": "text"
      },
      "source": [
        "<a href=\"https://colab.research.google.com/github/tg-bomze/ENTAR/blob/master/ENTAR_Eng.ipynb\" target=\"_parent\"><img src=\"https://colab.research.google.com/assets/colab-badge.svg\" alt=\"Open In Colab\"/></a>"
      ]
    },
    {
      "cell_type": "markdown",
      "metadata": {
        "id": "c7VjlYb2H9Ph",
        "colab_type": "text"
      },
      "source": [
        "# <b><font color=\"black\" size=\"-5\">.</font></b>\n",
        "![alt text](https://raw.githubusercontent.com/tg-bomze/ENTAR/master/entar.png)\n",
        "\n",
        "<b><font color=\"black\" size=\"+3\">Ensemble of Neural Tools for Animations Restoration</font></b>\n",
        "\n",
        "<b><font color=\"red\">P.S. Sorry for my bad English. I translate using Google Translator</font></b>\n",
        "\n",
        "*↓ Open me ↓*"
      ]
    },
    {
      "cell_type": "markdown",
      "metadata": {
        "id": "VP3Be3bDIaNW",
        "colab_type": "text"
      },
      "source": [
        "##**Put it all together:**\n",
        "GitHub: [@tg-bomze](https://github.com/tg-bomze)\n",
        "\n",
        "Telegram: [@bomze](https://t.me/bomze) \n",
        "\n",
        "Twitter: [@tg_bomze](https://twitter.com/tg_bomze)\n",
        "\n",
        "*For all questions, Twitter.*"
      ]
    },
    {
      "cell_type": "markdown",
      "metadata": {
        "id": "OT-te5mSVW9-",
        "colab_type": "text"
      },
      "source": [
        "**Next are the blocks, divided into sections. The zero section is required. The rest is your choice.**"
      ]
    },
    {
      "cell_type": "markdown",
      "metadata": {
        "id": "ECm1EEXpPaTZ",
        "colab_type": "text"
      },
      "source": [
        "# <b><font color=\"gree\" size=\"+3\">0. Preparation for processing</b>\n",
        "*↓ Click to open section ↓*"
      ]
    },
    {
      "cell_type": "code",
      "metadata": {
        "id": "7_-MnB32R4kZ",
        "colab_type": "code",
        "colab": {}
      },
      "source": [
        "#@title ##**Install all the necessary libraries** { display-mode: \"form\" }\n",
        "!pip install youtube_dl\n",
        "from IPython.display import clear_output\n",
        "from google.colab import files\n",
        "import imageio\n",
        "import youtube_dl\n",
        "import cv2\n",
        "import os\n",
        "import torch\n",
        "import fastai\n",
        "from os import path\n",
        "import numpy as np\n",
        "import moviepy.editor as mpy\n",
        "from moviepy.video.io.ffmpeg_writer import FFMPEG_VideoWriter\n",
        "from pathlib import Path\n",
        "import sys\n",
        "import glob\n",
        "from IPython import display as ipythondisplay\n",
        "from IPython.display import Image as ipythonimage\n",
        "torch.backends.cudnn.benchmark=True\n",
        "%matplotlib inline\n",
        "\n",
        "!rm -rf sample_data\n",
        "clear_output()"
      ],
      "execution_count": 0,
      "outputs": []
    },
    {
      "cell_type": "code",
      "metadata": {
        "colab_type": "code",
        "id": "Bhwpq1R38FPw",
        "colab": {}
      },
      "source": [
        "#@title ##**Upload video** { display-mode: \"form\" }\n",
        "#@markdown *Enter a link to the video below (for example, YouTube or Twitter), or leave the **source_url** field blank (in this case, you will be asked to download the video from your computer).*\n",
        "source_url = '' #@param {type:\"string\"}\n",
        "\n",
        "if source_url == '':\n",
        "  uploaded = files.upload()\n",
        "  for fn in uploaded.keys():\n",
        "    print('User uploaded file \"{name}\" with length {length} bytes'.format(\n",
        "        name=fn, length=len(uploaded[fn])))\n",
        "  file_name = \"downloaded_video.\" + fn.split(\".\")[1]\n",
        "  !mv -f $fn $file_name\n",
        "\n",
        "else:\n",
        "  try:\n",
        "    ydl_opts = {\n",
        "        'format': 'bestvideo[ext=mp4]+bestaudio[ext=m4a]/mp4',\n",
        "        'outtmpl': 'downloaded_video.mp4',\n",
        "        }\n",
        "    with youtube_dl.YoutubeDL(ydl_opts) as ydl:\n",
        "      ydl.download([source_url])\n",
        "    file_name = 'downloaded_video.mp4'\n",
        "  \n",
        "  except BaseException:\n",
        "    !wget $source_url\n",
        "    fn = source_url.split('/')[-1]\n",
        "    file_name = \"downloaded_video.\" + fn.split(\".\")[1]\n",
        "    !mv -f $fn $file_name\n",
        "\n",
        "!cp -r downloaded_video.mp4 video.mp4\n",
        "clear_output()\n",
        "fps_of_video = int(cv2.VideoCapture(file_name).get(cv2.CAP_PROP_FPS))\n",
        "frames_of_video = int(cv2.VideoCapture(file_name).get(cv2.CAP_PROP_FRAME_COUNT))\n",
        "#@markdown *Downloading videos lasting longer than one minute is not recommended.*\n",
        "\n",
        "#@markdown *If there is an error during execution, then run this block again*"
      ],
      "execution_count": 0,
      "outputs": []
    },
    {
      "cell_type": "markdown",
      "metadata": {
        "id": "NwIlL8MOXfHN",
        "colab_type": "text"
      },
      "source": [
        "**You can execute the following sections in any order (the main thing is to execute each block inside a section one by one).**"
      ]
    },
    {
      "cell_type": "markdown",
      "metadata": {
        "colab_type": "text",
        "id": "ZjPqTBNoohK9"
      },
      "source": [
        "---\n",
        "# <b><font color=\"gree\" size=\"+3\">1. Colorize video ([DeOldify](https://github.com/jantic/DeOldify))\n",
        "*↓ Click to open section ↓*\n"
      ]
    },
    {
      "cell_type": "markdown",
      "metadata": {
        "id": "JPGpjSn70T-N",
        "colab_type": "text"
      },
      "source": [
        "Creator: [Jason Antic](https://twitter.com/citnaj)"
      ]
    },
    {
      "cell_type": "code",
      "metadata": {
        "colab_type": "code",
        "id": "-T-svuHytJ-8",
        "colab": {}
      },
      "source": [
        "#@title ##**Clone the repository and install the necessary dependencies** { display-mode: \"form\" }\n",
        "!git clone https://github.com/jantic/DeOldify.git\n",
        "%cd DeOldify\n",
        "!pip install -r colab_requirements.txt\n",
        "clear_output()"
      ],
      "execution_count": 0,
      "outputs": []
    },
    {
      "cell_type": "code",
      "metadata": {
        "id": "XHjidueePj9g",
        "colab_type": "code",
        "colab": {}
      },
      "source": [
        "#@title ##**Upload the pre-trained model** { display-mode: \"form\" }\n",
        "from deoldify.visualize import *\n",
        "!mkdir 'models'\n",
        "try:\n",
        "  !rm -rf models/ColorizeVideo_gen.pth\n",
        "  !gdown https://drive.google.com/uc?id=1-3ONnPYcX9fOqnY-pUKYGJOd6XeFon9X -O ./models/ColorizeVideo_gen.pth\n",
        "except BaseException:\n",
        "  !rm -rf models/ColorizeVideo_gen.pth\n",
        "  !wget https://www.dropbox.com/s/336vn9y4qwyg9yz/ColorizeVideo_gen.pth?dl=0 -O ./models/ColorizeVideo_gen.pth\n",
        "colorizer = get_video_colorizer()\n",
        "clear_output()"
      ],
      "execution_count": 0,
      "outputs": []
    },
    {
      "cell_type": "code",
      "metadata": {
        "id": "4spoDDLfPj90",
        "colab_type": "code",
        "colab": {}
      },
      "source": [
        "#@title ##**Colorize the video** { display-mode: \"form\" }\n",
        "#@markdown **21, 35** *- optimal values*\n",
        "!rm -rf video\n",
        "!mkdir 'video'\n",
        "!mkdir 'video/source'\n",
        "!cp -r ../video.mp4 video/source/video.mp4\n",
        "\n",
        "render_factor = 21  #@param {type: \"slider\", min: 5, max: 44}\n",
        "video_path = colorizer.colorize_from_file_name('video.mp4', render_factor)\n",
        "clear_output()"
      ],
      "execution_count": 0,
      "outputs": []
    },
    {
      "cell_type": "markdown",
      "metadata": {
        "id": "DQa3ZcUIVm3F",
        "colab_type": "text"
      },
      "source": [
        "If an error occurs while executing a block from above, then convert the video [HERE](https://convert-video-online.com/ru/) and start the entire script again."
      ]
    },
    {
      "cell_type": "code",
      "metadata": {
        "id": "rMgsqYUKuF7U",
        "colab_type": "code",
        "colab": {}
      },
      "source": [
        "#@title ##**Get result** { display-mode: \"form\" }\n",
        "!cp -r video/result/video.mp4 ../colorized_video.mp4\n",
        "what_next = 'play' #@param [\"play\", \"download\"]\n",
        "if what_next == \"play\":\n",
        "  display(mpy.ipython_display(\"../colorized_video.mp4\", height=400, autoplay=1, loop=1, maxduration=600))\n",
        "else:\n",
        "  files.download('../colorized_video.mp4')"
      ],
      "execution_count": 0,
      "outputs": []
    },
    {
      "cell_type": "code",
      "metadata": {
        "id": "rGEPpJX3Pj95",
        "colab_type": "code",
        "colab": {}
      },
      "source": [
        "#@title ###**Optional block!** { display-mode: \"form\" }\n",
        "#@markdown *If it seems to you that the quality of coloring is insufficient, then run this block, wait until it is complete and look at what value of **render_factor** you like the picture more. Next, run the previous coloring block again, setting the desired value.*\n",
        "for i in range(10,45,2):\n",
        "    colorizer.vis.plot_transformed_image('video/bwframes/video/00001.jpg', render_factor=i, display_render_factor=True, figsize=(8,8))"
      ],
      "execution_count": 0,
      "outputs": []
    },
    {
      "cell_type": "code",
      "metadata": {
        "id": "QUN-VylMiIxT",
        "colab_type": "code",
        "colab": {}
      },
      "source": [
        "#@title ##**Exit DeOldify** { display-mode: \"form\" }\n",
        "#@markdown *If you are going to continue to carry out the following points, then first of all, be sure to complete this block!*\n",
        "!rm -rf ../video.mp4\n",
        "!cp -r video/result/video.mp4 ../video.mp4\n",
        "%cd ..\n",
        "clear_output()\n"
      ],
      "execution_count": 0,
      "outputs": []
    },
    {
      "cell_type": "markdown",
      "metadata": {
        "id": "4AVBicY8T8XY",
        "colab_type": "text"
      },
      "source": [
        "---\n",
        "# <b><font color=\"gree\" size=\"+3\">2. Delete noise ([DeepRemaster](https://github.com/satoshiiizuka/siggraphasia2019_remastering))\n",
        "*↓ Click to open section ↓*"
      ]
    },
    {
      "cell_type": "markdown",
      "metadata": {
        "id": "NdtGbSHC0LU0",
        "colab_type": "text"
      },
      "source": [
        "Creator: [Satoshi Iizuka](http://iizuka.cs.tsukuba.ac.jp/index_eng.html)"
      ]
    },
    {
      "cell_type": "code",
      "metadata": {
        "id": "_8udPfjMUJHZ",
        "colab_type": "code",
        "colab": {}
      },
      "source": [
        "#@title ##**Clone the repository** { display-mode: \"form\" }\n",
        "!git clone https://github.com/satoshiiizuka/siggraphasia2019_remastering.git DeepRemaster\n",
        "!cp -r video.mp4 DeepRemaster/\n",
        "%cd DeepRemaster\n",
        "clear_output()"
      ],
      "execution_count": 0,
      "outputs": []
    },
    {
      "cell_type": "code",
      "metadata": {
        "id": "RPdZEJiFVoPf",
        "colab_type": "code",
        "colab": {}
      },
      "source": [
        "#@title ##**Upload the pre-trained model** { display-mode: \"form\" }\n",
        "try:\n",
        "  !rm -rf model/remasternet.pth.tar\n",
        "  !gdown https://drive.google.com/uc?id=1pB8C7c2EDUXNL0Ytk0NZ8q8bAj_nFykO\n",
        "  !gdown https://drive.google.com/uc?id=1fJJK6i6jVGJmWhoHssuHMZFmfnULxe8S -O model/remasternet.pth.tar\n",
        "  !bash ./checking_model.sh\n",
        "except BaseException:\n",
        "  !rm -rf model/remasternet.pth.tar\n",
        "  !bash ./download_model.sh\n",
        "clear_output()"
      ],
      "execution_count": 0,
      "outputs": []
    },
    {
      "cell_type": "code",
      "metadata": {
        "id": "kGEngN6UXAcZ",
        "colab_type": "code",
        "colab": {}
      },
      "source": [
        "#@title ##**Remove frame noise** { display-mode: \"form\" }\n",
        "!python remaster.py --input video.mp4 --disable_colorization --gpu\n",
        "clear_output()"
      ],
      "execution_count": 0,
      "outputs": []
    },
    {
      "cell_type": "code",
      "metadata": {
        "id": "pwwhj7Rf4v0k",
        "colab_type": "code",
        "colab": {}
      },
      "source": [
        "#@title ##**Get result** { display-mode: \"form\" }\n",
        "!rm -rf ../video.mp4\n",
        "!cp -r video_out.mp4 ../video.mp4\n",
        "!cp -r video_out.mp4 ../denoise_video.mp4\n",
        "what_next = 'play' #@param [\"play\", \"download\"]\n",
        "if what_next == \"play\":\n",
        "  display(mpy.ipython_display(\"../denoise_video.mp4\", height=400, autoplay=1, loop=1, maxduration=600))\n",
        "else:\n",
        "  files.download('../denoise_video.mp4')"
      ],
      "execution_count": 0,
      "outputs": []
    },
    {
      "cell_type": "code",
      "metadata": {
        "id": "EWgDUMFN3_wh",
        "colab_type": "code",
        "colab": {}
      },
      "source": [
        "#@title ##**Exit DeepRemaster** { display-mode: \"form\" }\n",
        "#@markdown *If you are going to continue to carry out the following points, then first of all, be sure to complete this block!*\n",
        "%cd ..\n",
        "clear_output()\n"
      ],
      "execution_count": 0,
      "outputs": []
    },
    {
      "cell_type": "markdown",
      "metadata": {
        "id": "148dzAWOTw29",
        "colab_type": "text"
      },
      "source": [
        "---\n",
        "# <b><font color=\"gree\" size=\"+3\">3. Frames interpolation ([VFIASC](https://github.com/sniklaus/sepconv-slomo))\n",
        "\n",
        "*(You can find another interpolation method below in the \"Advanced sections\" section. It runs faster but less qualitatively.)*\n",
        "\n",
        "*↓ Click to open section ↓*"
      ]
    },
    {
      "cell_type": "markdown",
      "metadata": {
        "id": "8TCVYz2wz_RG",
        "colab_type": "text"
      },
      "source": [
        "Creator: [Simon Niklaus](http://sniklaus.com/about/welcome)"
      ]
    },
    {
      "cell_type": "code",
      "metadata": {
        "id": "2eIC3CwoYbe6",
        "colab_type": "code",
        "colab": {}
      },
      "source": [
        "#@title ##**Clone the repository and download the necessary components** { display-mode: \"form\" }\n",
        "!git clone https://github.com/sniklaus/sepconv-slomo.git VFIASC\n",
        "%cd VFIASC\n",
        "!rm -rf network-l1.pytorch\n",
        "!rm -rf network-lf.pytorch\n",
        "try:\n",
        "  !gdown https://drive.google.com/uc?id=1v77wNU8sYh0hBmljeGt5LzY9ehQU0elv\n",
        "  !gdown https://drive.google.com/uc?id=1na11Ey0TB1KEDps4uEwyTBsDcmpo2kr6\n",
        "except BaseException:\n",
        "  !bash download.bash\n",
        "clear_output()"
      ],
      "execution_count": 0,
      "outputs": []
    },
    {
      "cell_type": "code",
      "metadata": {
        "id": "ekZ7p6JCdPqW",
        "colab_type": "code",
        "colab": {}
      },
      "source": [
        "#@title ##**Install the necessary dependencies** { display-mode: \"form\" }\n",
        "#@markdown **This block is required. Execution time: ~ 12 minutes**\n",
        "print('You can go for a coffee while.\\n')\n",
        "!pip install cupy\n",
        "!pip install moviepy\n",
        "clear_output()\n",
        "print(\"It's time to do the next block.\")"
      ],
      "execution_count": 0,
      "outputs": []
    },
    {
      "cell_type": "code",
      "metadata": {
        "id": "A8rXNbVbVmz4",
        "colab_type": "code",
        "colab": {}
      },
      "source": [
        "#@title ##**Interpolate frames** { display-mode: \"form\" }\n",
        "#@markdown **How many times increase FPS:**\n",
        "fps_boosting = 'x4' #@param [\"x4\", \"x8\"]\n",
        "\n",
        "if fps_boosting == 'x4':\n",
        "  !python run.py --model lf --video ../video.mp4 --out ./video_x4.mp4\n",
        "  video_name = \"video_x4.mp4\"\n",
        "elif fps_boosting == 'x8':\n",
        "  !python run.py --model lf --video ../video.mp4 --out ./video_x4.mp4\n",
        "  !python run.py --model lf --video ./video_x4.mp4 --out ./video_x8.mp4\n",
        "  video_name = \"video_x8.mp4\"\n",
        "clear_output()\n",
        "\n",
        "mfps_of_video = int(cv2.VideoCapture(video_name).get(cv2.CAP_PROP_FPS))\n",
        "mframes_of_video = int(cv2.VideoCapture(video_name).get(cv2.CAP_PROP_FRAME_COUNT))\n",
        "#@markdown *I recommend installing* **x4**. *Otherwise, the execution of this block may be delayed or lead to an error. On top of that, the effect of SlowMo will be unnatural*"
      ],
      "execution_count": 0,
      "outputs": []
    },
    {
      "cell_type": "code",
      "metadata": {
        "colab_type": "code",
        "id": "rdqfZhO0m0MT",
        "colab": {}
      },
      "source": [
        "#@title ##**Get result** { display-mode: \"form\" }\n",
        "!rm -rf ../video.mp4\n",
        "!cp -r $video_name ../video.mp4\n",
        "!cp -r $video_name ../fps_boosted_video.mp4\n",
        "what_next = 'play' #@param [\"play\", \"download\"]\n",
        "if what_next == \"play\":\n",
        "  display(mpy.ipython_display(\"../fps_boosted_video.mp4\", height=400, autoplay=1, loop=1, maxduration=600))\n",
        "else:\n",
        "  files.download(\"../fps_boosted_video.mp4\")"
      ],
      "execution_count": 0,
      "outputs": []
    },
    {
      "cell_type": "code",
      "metadata": {
        "colab_type": "code",
        "id": "z6g_E1rDmyXW",
        "colab": {}
      },
      "source": [
        "#@title ##**Convert SlowMo video to high-frequency and automatically suggest downloading it to a computer** { display-mode: \"form\" }\n",
        "!rm -rf output.mp4\n",
        "!rm -rf slowed_movie_frames\n",
        "!rm -rf ../video.mp4\n",
        "!rm -rf ../fps_boosted_video.mp4\n",
        "\n",
        "fr = int(fps_of_video*int(fps_boosting.split(\"x\")[1]))\n",
        "!mkdir 'slowed_movie_frames'\n",
        "vidcap = cv2.VideoCapture(video_name)\n",
        "success,image = vidcap.read()\n",
        "count = 0\n",
        "success = True\n",
        "while success:\n",
        "  cv2.imwrite(\"slowed_movie_frames/frame%09d.jpg\" % count, image)\n",
        "  success,image = vidcap.read()\n",
        "  count += 1\n",
        "\n",
        "staffs = []\n",
        "img = os.listdir(\"slowed_movie_frames/\")\n",
        "img.sort()\n",
        "clear_output()\n",
        "for i in img:\n",
        "  staffs.append(\"slowed_movie_frames/\"+i)\n",
        "\n",
        "staff = cv2.imread(staffs[0])\n",
        "writer = cv2.VideoWriter(\n",
        "    'output.mp4',\n",
        "    cv2.VideoWriter_fourcc(*'MP4V'),   # codec (*'DIVX', *'MP4V', *'FMP4', *'MJPG', *'XVID', *'MP4S')\n",
        "    fr,\n",
        "    (staff.shape[1], staff.shape[0]),\n",
        "    isColor=len(staff.shape) > 2)\n",
        "for staff in map(cv2.imread, staffs):\n",
        "    writer.write(staff)\n",
        "writer.release()\n",
        "\n",
        "clear_output()\n",
        "\n",
        "pfps_of_video = int(cv2.VideoCapture(\"output.mp4\").get(cv2.CAP_PROP_FPS))\n",
        "pframes_of_video = int(cv2.VideoCapture(\"output.mp4\").get(cv2.CAP_PROP_FRAME_COUNT))\n",
        "!cp -r output.mp4 ../fps_boosted_video.mp4\n",
        "files.download(\"../fps_boosted_video.mp4\")"
      ],
      "execution_count": 0,
      "outputs": []
    },
    {
      "cell_type": "code",
      "metadata": {
        "id": "Hvua74ctfoE2",
        "colab_type": "code",
        "colab": {}
      },
      "source": [
        "#@title ##**Exit VFIASC** { display-mode: \"form\" }\n",
        "#@markdown *If you are going to continue to carry out the following points, then first of all, be sure to complete this block!*\n",
        "!cp -r ../fps_boosted_video.mp4 ../video.mp4\n",
        "%cd ..\n",
        "clear_output()\n"
      ],
      "execution_count": 0,
      "outputs": []
    },
    {
      "cell_type": "markdown",
      "metadata": {
        "colab_type": "text",
        "id": "FEdP82Zc9zqB"
      },
      "source": [
        "---\n",
        "# <b><font color=\"gree\" size=\"+3\">4. Upscale Resolution ([ESRGAN](https://github.com/xinntao/ESRGAN))\n",
        "\n",
        "*↓ Click to open section ↓*"
      ]
    },
    {
      "cell_type": "markdown",
      "metadata": {
        "colab_type": "text",
        "id": "Zn_3gViR9zqP"
      },
      "source": [
        "Creator: [Xintao Wang](https://xinntao.github.io)"
      ]
    },
    {
      "cell_type": "code",
      "metadata": {
        "colab_type": "code",
        "id": "0jjT8tiP9zqR",
        "colab": {}
      },
      "source": [
        "#@title ##**Clone the repository and download the necessary components** { display-mode: \"form\" }\n",
        "!git clone https://github.com/xinntao/ESRGAN.git\n",
        "!cp -r video.mp4 ESRGAN/\n",
        "%cd ESRGAN\n",
        "!git checkout tags/old-arch\n",
        "model_url = \"https://www.dropbox.com/s/vouc15j8jjp2o5n/RRDB_ESRGAN_x4_old_arch.pth?dl=0\"\n",
        "!wget $model_url --content-disposition -P models\n",
        "import architecture as arch\n",
        "import os.path\n",
        "!mkdir frames\n",
        "!rm -rf results/baboon_ESRGAN.png\n",
        "clear_output()"
      ],
      "execution_count": 0,
      "outputs": []
    },
    {
      "cell_type": "code",
      "metadata": {
        "id": "NxKfx9YN_58S",
        "colab_type": "code",
        "colab": {}
      },
      "source": [
        "#@title ##**Split the video into frames** { display-mode: \"form\" }\n",
        "frames_of_video = int(cv2.VideoCapture(\"video.mp4\").get(cv2.CAP_PROP_FRAME_COUNT))\n",
        "fps_of_video = int(cv2.VideoCapture(\"video.mp4\").get(cv2.CAP_PROP_FPS))\n",
        "vidcap = cv2.VideoCapture('video.mp4')\n",
        "success,image = vidcap.read()\n",
        "count = 0\n",
        "success = True\n",
        "while success:\n",
        "  cv2.imwrite(\"frames/frame%09d.jpg\" % count, image)\n",
        "  success,image = vidcap.read()\n",
        "  count += 1"
      ],
      "execution_count": 0,
      "outputs": []
    },
    {
      "cell_type": "code",
      "metadata": {
        "id": "0jDb1Bd7-0br",
        "colab_type": "code",
        "colab": {}
      },
      "source": [
        "#@title ##**Upscale resolution and improve frame quality** { display-mode: \"form\" }\n",
        "#@markdown **How many times to upscale the resolution:**\n",
        "upscale = 4 #@param {type: \"slider\", min: 4, max: 8}\n",
        "\n",
        "device = torch.device('cuda')\n",
        "model = arch.RRDB_Net(3, 3, 64, 23, gc=32, upscale=upscale, norm_type=None, act_type='leakyrelu', \\\n",
        "                        mode='CNA', res_scale=1, upsample_mode='upconv')\n",
        "model.load_state_dict(torch.load('models/{:s}'.format('RRDB_ESRGAN_x4_old_arch.pth')), strict=True)\n",
        "model.eval()\n",
        "for k, v in model.named_parameters():\n",
        "    v.requires_grad = False\n",
        "model = model.to(device)\n",
        "\n",
        "count_frames = 0\n",
        "\n",
        "for path in glob.glob('frames/*'):\n",
        "    base = os.path.splitext(os.path.basename(path))[0]\n",
        "    img = cv2.imread(path, cv2.IMREAD_COLOR)\n",
        "    img = img * 1.0 / 255\n",
        "    img = torch.from_numpy(np.transpose(img[:, :, [2, 1, 0]], (2, 0, 1))).float()\n",
        "    img_LR = img.unsqueeze(0)\n",
        "    img_LR = img_LR.to(device)\n",
        "\n",
        "    output = model(img_LR).data.squeeze().float().cpu().clamp_(0, 1).numpy()\n",
        "    output = np.transpose(output[[2, 1, 0], :, :], (1, 2, 0))\n",
        "    output = (output * 255.0).round()\n",
        "    path = 'results/{:s}_rlt.png'.format(base)\n",
        "    cv2.imwrite(path, output)\n",
        "    count_frames += 1\n",
        "    clear_output()\n",
        "    print(\"Processed: {} из {}\".format(str(count_frames), str(frames_of_video)))\n",
        "clear_output()"
      ],
      "execution_count": 0,
      "outputs": []
    },
    {
      "cell_type": "code",
      "metadata": {
        "id": "sKO7rDHjSGpc",
        "colab_type": "code",
        "colab": {}
      },
      "source": [
        "#@title ##**Collecting a video file** { display-mode: \"form\" }\n",
        "frames = []\n",
        "img = os.listdir(\"results/\")\n",
        "img.sort()\n",
        "for i in img:\n",
        "  frames.append(imageio.imread(\"results/\"+i))\n",
        "frames = np.array(frames)\n",
        "imageio.mimsave(\"upscale_video.mp4\", frames, fps=fps_of_video)\n",
        "\n",
        "print('Сборка завершена')\n",
        "!cp -r upscale_video.mp4 ../upscale_video.mp4\n",
        "!cp -r upscale_video.mp4 ../video.mp4\n",
        "clear_output()"
      ],
      "execution_count": 0,
      "outputs": []
    },
    {
      "cell_type": "code",
      "metadata": {
        "colab_type": "code",
        "id": "9jFRHvpT9zrx",
        "colab": {}
      },
      "source": [
        "#@title ##**Get result** { display-mode: \"form\" }\n",
        "what_next = 'play' #@param [\"play\", \"download\"]\n",
        "if what_next == \"play\":\n",
        "  display(mpy.ipython_display(\"../upscale_video.mp4\", height=400, autoplay=1, loop=1, maxduration=600))\n",
        "else:\n",
        "  files.download(\"../upscale_video.mp4\")"
      ],
      "execution_count": 0,
      "outputs": []
    },
    {
      "cell_type": "code",
      "metadata": {
        "colab_type": "code",
        "id": "GN3OZGoR9zr6",
        "colab": {}
      },
      "source": [
        "#@title ##**Exit ESRGAN** { display-mode: \"form\" }\n",
        "#@markdown *If you are going to continue to carry out the following points, then first of all, be sure to complete this block!*\n",
        "%cd ..\n",
        "clear_output()\n"
      ],
      "execution_count": 0,
      "outputs": []
    },
    {
      "cell_type": "markdown",
      "metadata": {
        "id": "a165mYFXow8I",
        "colab_type": "text"
      },
      "source": [
        "# <b><font color=\"black\" size=\"+3\">Advanced sections\n",
        "<font color=\"grey\">These sections contain neural networks that are not included in the main list of video processing tools for various reasons.\n",
        "\n",
        "*↓ Click to open additional sections. ↓*"
      ]
    },
    {
      "cell_type": "markdown",
      "metadata": {
        "id": "lEhNSwi50Wa5",
        "colab_type": "text"
      },
      "source": [
        "---\n",
        "## <b><font color=\"grey\" size=\"+2\">Increased frame resolution ([Fast-SRGAN](https://github.com/HasnainRaz/Fast-SRGAN))\n",
        "*If you decide to execute this block, it is recommended that you do this to the ambassador of section* 2. Delete noise\n",
        "\n",
        "*↓ Click to open section ↓*"
      ]
    },
    {
      "cell_type": "markdown",
      "metadata": {
        "id": "48zbpTtCzTcQ",
        "colab_type": "text"
      },
      "source": [
        "Creator: [Hasnain Raza](https://github.com/HasnainRaz)"
      ]
    },
    {
      "cell_type": "code",
      "metadata": {
        "id": "P7JfV7DX0YJ3",
        "colab_type": "code",
        "colab": {}
      },
      "source": [
        "#@title ###**Clone the repository and install the necessary dependencies** { display-mode: \"form\" }\n",
        "!git clone https://github.com/HasnainRaz/Fast-SRGAN.git\n",
        "!cp -r video.mp4 Fast-SRGAN/\n",
        "%cd Fast-SRGAN\n",
        "!pip install -r requirements.txt\n",
        "clear_output()"
      ],
      "execution_count": 0,
      "outputs": []
    },
    {
      "cell_type": "code",
      "metadata": {
        "id": "ykB8cTVG03Rk",
        "colab_type": "code",
        "colab": {}
      },
      "source": [
        "#@title ###**Generate high-resolution frames** { display-mode: \"form\" }\n",
        "#@markdown *This block works very slowly, and the quality of the resulting images is very controversial, which is why I put this section into Advanced.*\n",
        "!rm -rf hr_frames\n",
        "!rm -rf frames\n",
        "!mkdir 'hr_frames'\n",
        "!mkdir 'frames'\n",
        "\n",
        "vidcap = cv2.VideoCapture('video.mp4')\n",
        "success,image = vidcap.read()\n",
        "count = 0\n",
        "success = True\n",
        "while success:\n",
        "  cv2.imwrite(\"frames/frame%09d.jpg\" % count, image)\n",
        "  success,image = vidcap.read()\n",
        "  count += 1\n",
        "\n",
        "!python infer.py --image_dir 'frames/' --output_dir 'hr_frames/'\n",
        "clear_output()"
      ],
      "execution_count": 0,
      "outputs": []
    },
    {
      "cell_type": "code",
      "metadata": {
        "id": "5dnoDuDLWq0-",
        "colab_type": "code",
        "colab": {}
      },
      "source": [
        "#@title ###**Putting frames in a single video** { display-mode: \"form\" }\n",
        "\n",
        "!rm -rf HR_video.mp4\n",
        "!rm -rf ../HR_video.mp4\n",
        "frames = []\n",
        "img = os.listdir(\"hr_frames/\")\n",
        "img.sort()\n",
        "for i in img:\n",
        "  frames.append(imageio.imread(\"hr_frames/\"+i))\n",
        "frames = np.array(frames)\n",
        "imageio.mimsave(\"HR_video.mp4\", frames)\n",
        "\n",
        "print('Assembly completed')\n",
        "!cp -r HR_video.mp4 ../HR_video.mp4\n",
        "clear_output()"
      ],
      "execution_count": 0,
      "outputs": []
    },
    {
      "cell_type": "code",
      "metadata": {
        "id": "XkkXV9zWSY3A",
        "colab_type": "code",
        "colab": {}
      },
      "source": [
        "#@title ###**Get result** { display-mode: \"form\" }\n",
        "what_next = 'play' #@param [\"play\", \"download\"]\n",
        "if what_next == \"play\":\n",
        "  display(mpy.ipython_display(\"HR_video.mp4\", height=400, autoplay=1, loop=1, maxduration=600))\n",
        "else:\n",
        "  files.download(\"HR_video.mp4\")"
      ],
      "execution_count": 0,
      "outputs": []
    },
    {
      "cell_type": "code",
      "metadata": {
        "colab_type": "code",
        "id": "SLS-IdH7cHFw",
        "colab": {}
      },
      "source": [
        "#@title ###**Convert SlowMo video to high-frequency and automatically suggest downloading it to a computer** { display-mode: \"form\" }\n",
        "fps_of_video = int(cv2.VideoCapture(\"video.mp4\").get(cv2.CAP_PROP_FPS))\n",
        "\n",
        "!rm -rf HR_video.mp4\n",
        "!rm -rf ../HR_video.mp4\n",
        "frames = []\n",
        "img = os.listdir(\"hr_frames/\")\n",
        "img.sort()\n",
        "clear_output()\n",
        "for i in img:\n",
        "  frames.append(\"hr_frames/\"+i)\n",
        "frames = np.array(frames)\n",
        "\n",
        "frame = cv2.imread(frames[0])\n",
        "writer = cv2.VideoWriter(\n",
        "    'HR_video.mp4',\n",
        "    cv2.VideoWriter_fourcc(*'MP4V'),   # codec (*'DIVX', *'MP4V', *'FMP4', *'MJPG', *'XVID', *'MP4S')\n",
        "    fps_of_video, \n",
        "    (frame.shape[1], frame.shape[0]), \n",
        "    isColor=len(frame.shape) > 2)\n",
        "for frame in map(cv2.imread, frames):\n",
        "    writer.write(frame)\n",
        "writer.release()\n",
        "\n",
        "clear_output()\n",
        "print('Conversion completed. Wait for the download to start.')\n",
        "!cp -r HR_video.mp4 ../HR_video.mp4\n",
        "files.download(\"HR_video.mp4\")\n",
        "clear_output()"
      ],
      "execution_count": 0,
      "outputs": []
    },
    {
      "cell_type": "code",
      "metadata": {
        "id": "OU8cRFef3BvA",
        "colab_type": "code",
        "colab": {}
      },
      "source": [
        "#@title ###**Exit Fast-SRGAN** { display-mode: \"form\" }\n",
        "#@markdown *If you are going to continue to carry out the following points, then first of all, be sure to complete this block!*\n",
        "!rm -rf ../video.mp4\n",
        "!cp -r HR_video.mp4 ../video.mp4\n",
        "%cd ..\n",
        "clear_output()\n"
      ],
      "execution_count": 0,
      "outputs": []
    },
    {
      "cell_type": "markdown",
      "metadata": {
        "colab_type": "text",
        "id": "hCmtWECtAE8X"
      },
      "source": [
        "---\n",
        "## <b><font color=\"grey\" size=\"+2\">Faster but lower quality frame interpolation ([VFI-CFT](https://github.com/MortenHannemose/pytorch-vfi-cft))\n",
        "*↓ Click to open section ↓*"
      ]
    },
    {
      "cell_type": "markdown",
      "metadata": {
        "id": "dhF9d-XDzEGY",
        "colab_type": "text"
      },
      "source": [
        "Creator: [Morten Hannemose](https://scholar.google.ru/citations?user=AH58CjUAAAAJ&hl=ru)"
      ]
    },
    {
      "cell_type": "code",
      "metadata": {
        "colab_type": "code",
        "id": "WNPIlvbrAE8n",
        "colab": {}
      },
      "source": [
        "#@title ###**Clone a repository and download a pre-trained model** { display-mode: \"form\" }\n",
        "!git clone https://github.com/MortenHannemose/pytorch-vfi-cft.git VFI-CFT\n",
        "video = \"video_2x_slow.mp4\"\n",
        "try:\n",
        "  !rm -rf VFI_CFT_weights.pt.gz\n",
        "  !rm -rf slow_movie.py\n",
        "  !gdown https://drive.google.com/uc?id=1-5zS1XOhwVXJhD4JDZWmG6plC_IVVg8b\n",
        "  !gdown https://drive.google.com/uc?id=1YinJeeUbTbDynD6kw6f6h76CAkRqFdHK\n",
        "except BaseException:\n",
        "  !rm -rf VFI_CFT_weights.pt.gz\n",
        "  !gdown https://drive.google.com/uc?id=1rQAi0UXcaMcEo8_l4oSd8vJUVzp2dIIF\n",
        "clear_output()"
      ],
      "execution_count": 0,
      "outputs": []
    },
    {
      "cell_type": "code",
      "metadata": {
        "id": "ezRAPiKv_nar",
        "colab_type": "code",
        "colab": {}
      },
      "source": [
        "#@title ###**Interpolate frames** { display-mode: \"form\" }\n",
        "#@markdown **How many times increase FPS:**\n",
        "!rm -rf slowed_movie_frames\n",
        "!rm -rf $video\n",
        "!rm -rf video.mp4\n",
        "!cp -r ../video.mp4 ./\n",
        "fps_boosting = 2 #@param {type:\"slider\", min:2, max:8, step:1}\n",
        "\n",
        "!python slow_movie.py -m video.mp4 -f $fps_boosting\n",
        "\n",
        "video = \"video_\"+str(fps_boosting)+\"x_slow.mp4\"\n",
        "frames = []\n",
        "img = os.listdir(\"slowed_movie_frames/\")\n",
        "img.sort()\n",
        "clear_output()\n",
        "for i in img:\n",
        "  frames.append(imageio.imread(\"slowed_movie_frames/\"+i))\n",
        "frames = np.array(frames)\n",
        "imageio.mimsave(\"fps_boosted_video.mp4\", frames)\n",
        "#@markdown *More than x4 is not recommended. SlowMo effect will be unnatural*\n",
        "clear_output()\n",
        "\n",
        "nfps_of_video = int(cv2.VideoCapture(\"fps_boosted_video.mp4\").get(cv2.CAP_PROP_FPS))\n",
        "nframes_of_video = int(cv2.VideoCapture(\"fps_boosted_video.mp4\").get(cv2.CAP_PROP_FRAME_COUNT))\n",
        "nseconds_of_video = int(nframes_of_video/nfps_of_video)\n",
        "print(\"Received video last: {} sec\".format(str(nseconds_of_video)))\n",
        "print(\"Total number of frames: {}\".format(str(nframes_of_video)))\n",
        "print(\"Frame rate: {} fps\".format(str(nfps_of_video)))"
      ],
      "execution_count": 0,
      "outputs": []
    },
    {
      "cell_type": "code",
      "metadata": {
        "id": "Yg5GYF1DBevE",
        "colab_type": "code",
        "colab": {}
      },
      "source": [
        "#@title ###**Get result** { display-mode: \"form\" }\n",
        "!rm -rf ../video.mp4\n",
        "!cp -r fps_boosted_video.mp4 ../video.mp4\n",
        "!cp -r fps_boosted_video.mp4 ../\n",
        "what_next = 'play' #@param [\"play\", \"download\"]\n",
        "if what_next == \"play\":\n",
        "  display(mpy.ipython_display(\"../fps_boosted_video.mp4\", height=400, autoplay=1, loop=1, maxduration=600))\n",
        "else:\n",
        "  files.download(\"../fps_boosted_video.mp4\")"
      ],
      "execution_count": 0,
      "outputs": []
    },
    {
      "cell_type": "code",
      "metadata": {
        "colab_type": "code",
        "id": "vhDZe6OFAE9V",
        "colab": {}
      },
      "source": [
        "#@title ###**Exit VFI-CFT** { display-mode: \"form\" }\n",
        "#@markdown *If you are going to continue to carry out the following points, then first of all, be sure to complete this block!*\n",
        "%cd ..\n",
        "clear_output()\n"
      ],
      "execution_count": 0,
      "outputs": []
    },
    {
      "cell_type": "markdown",
      "metadata": {
        "colab_type": "text",
        "id": "m0S8PshiV_aq"
      },
      "source": [
        "---\n",
        "## <b><font color=\"grey\" size=\"+2\">Bonus. Colorize photo and parallax effect ([DeOldify](https://github.com/jantic/DeOldify) + [3D Ken Burns](https://github.com/sniklaus/3d-ken-burns))</b>\n",
        "This section can be performed very first. At the end, the resulting video can be restored in other sections. It is important that before going through other sections, you need to go to **\"0. Preparation for processing\"** and execute the block **\"Install all the necessary libraries\"**. Further, all other sections will function normally.\n",
        "\n",
        "*↓ **Click to open section** ↓*"
      ]
    },
    {
      "cell_type": "code",
      "metadata": {
        "id": "86qN9siLYNix",
        "colab_type": "code",
        "colab": {}
      },
      "source": [
        "#@title ###**Upload photo** { display-mode: \"form\" }\n",
        "#@markdown *Enter a link to the photo below, or leave the **source_url** field blank (in this case, you will be prompted to download the video from your computer).*\n",
        "!rm -rf sample_data\n",
        "source_url = 'http://www.worldfocus.ru/_ph/1/444433832.jpg' #@param {type:\"string\"}\n",
        "\n",
        "if source_url == '':\n",
        "  uploaded = files.upload()\n",
        "  for fn in uploaded.keys():\n",
        "    print('User uploaded file \"{name}\" with length {length} bytes'.format(\n",
        "        name=fn, length=len(uploaded[fn])))\n",
        "  pic_name = \"photo.\" + fn.split(\".\")[1]\n",
        "  !mv -f $fn $pic_name\n",
        "\n",
        "else:\n",
        "  try:\n",
        "    pic_name = \"photo.\" + source_url.split('.')[-1]\n",
        "    !wget $source_url -O $pic_name\n",
        "  except BaseException:\n",
        "    print('Something wrong. Try uploading photos from your computer.')\n",
        "\n",
        "!cp -r photo.jpg downloaded_photo.jpg\n",
        "clear_output()\n",
        "#@markdown *If an error occurs during execution, then run this block again*"
      ],
      "execution_count": 0,
      "outputs": []
    },
    {
      "cell_type": "markdown",
      "metadata": {
        "colab_type": "text",
        "id": "Uu22Uwc3V_aw"
      },
      "source": [
        "### <b><font color=\"aquamarine\" size=\"+1\">1) DeOldify - Colorize photo</b>\n",
        "Creator: [Jason Antic](https://twitter.com/citnaj)\n",
        "\n",
        "*↓ Click to open subsection ↓*"
      ]
    },
    {
      "cell_type": "code",
      "metadata": {
        "id": "37_1nFPhaDNn",
        "colab_type": "code",
        "colab": {}
      },
      "source": [
        "#@title ###**Clone the repository and install the necessary dependencies** { display-mode: \"form\" }\n",
        "import torch\n",
        "import fastai\n",
        "!git clone https://github.com/jantic/DeOldify.git DeOldifyPhoto\n",
        "%cd DeOldifyPhoto\n",
        "!pip install -r colab_requirements.txt\n",
        "clear_output()"
      ],
      "execution_count": 0,
      "outputs": []
    },
    {
      "cell_type": "code",
      "metadata": {
        "id": "oVztY-tcbZP_",
        "colab_type": "code",
        "colab": {}
      },
      "source": [
        "#@title ###**Upload the pre-trained model** { display-mode: \"form\" }\n",
        "from deoldify.visualize import *\n",
        "!mkdir 'models'\n",
        "try:\n",
        "  !rm -rf models/ColorizeVideo_gen.pth\n",
        "  !gdown https://drive.google.com/uc?id=1hJ_Ut8JQ6mxk0W1ChRmBXcju0oiMo1ZU -O ./models/ColorizeArtistic_gen.pth\n",
        "except BaseException:\n",
        "  !rm -rf models/ColorizeVideo_gen.pth\n",
        "  !wget https://www.dropbox.com/s/zkehq1uwahhbc2o/ColorizeArtistic_gen.pth?dl=0 -O ./models/ColorizeArtistic_gen.pth\n",
        "colorizer = get_image_colorizer(artistic=True)\n",
        "clear_output()"
      ],
      "execution_count": 0,
      "outputs": []
    },
    {
      "cell_type": "code",
      "metadata": {
        "id": "Z4KPSH8HdYtM",
        "colab_type": "code",
        "colab": {}
      },
      "source": [
        "#@title ###**Colorize photo** { display-mode: \"form\" }\n",
        "#@markdown **21** *- optimal value*\n",
        "!rm -rf ../colorized_photo.jpg\n",
        "from google.colab import files\n",
        "render_factor = 21  #@param {type: \"slider\", min: 5, max: 44}\n",
        "image_path = colorizer.plot_transformed_image(path='../photo.jpg', render_factor=render_factor, compare=True)\n",
        "!cp -r result_images/photo.jpg ../colorized_photo.jpg\n",
        "\n",
        "#@markdown **Download:**\n",
        "download_image = True #@param {type:\"boolean\"}\n",
        "if download_image == True:\n",
        "  files.download(\"result_images/photo.jpg\")"
      ],
      "execution_count": 0,
      "outputs": []
    },
    {
      "cell_type": "code",
      "metadata": {
        "id": "q5CDSDkFgNUu",
        "colab_type": "code",
        "colab": {}
      },
      "source": [
        "#@title ###**Exit DeOldify** { display-mode: \"form\" }\n",
        "#@markdown *If you are going to continue to carry out the following points, then first of all, be sure to complete this block!*\n",
        "!cp -r result_images/photo.jpg ../photo.jpg\n",
        "%cd ..\n",
        "clear_output()\n"
      ],
      "execution_count": 0,
      "outputs": []
    },
    {
      "cell_type": "markdown",
      "metadata": {
        "id": "rDF6s4jYYF7I",
        "colab_type": "text"
      },
      "source": [
        "### <b><font color=\"aquamarine\" size=\"+1\">2) 3D Ken Burns - Parallax effect</b>\n",
        "\n",
        "Creator: [Simon Niklaus](http://sniklaus.com/about/welcome)\n",
        "\n",
        "*↓ Click to open subsection ↓*"
      ]
    },
    {
      "cell_type": "code",
      "metadata": {
        "id": "WnE5sxJDiX3u",
        "colab_type": "code",
        "colab": {}
      },
      "source": [
        "#@title ###**Сlone the repository and download the necessary components** { display-mode: \"form\" }\n",
        "import os\n",
        "import imageio\n",
        "import numpy as np\n",
        "import moviepy.editor as mpy\n",
        "from moviepy.video.io.ffmpeg_writer import FFMPEG_VideoWriter\n",
        "%matplotlib inline\n",
        "os.environ['CUDA_HOME'] = \"/usr/local/cuda\"\n",
        "!pip install moviepy\n",
        "!git clone https://github.com/sniklaus/3d-ken-burns.git 3D-Ken-Burns\n",
        "%cd 3D-Ken-Burns\n",
        "!mkdir 'results'\n",
        "clear_output()"
      ],
      "execution_count": 0,
      "outputs": []
    },
    {
      "cell_type": "code",
      "metadata": {
        "id": "R65yOrv_iYG1",
        "colab_type": "code",
        "colab": {}
      },
      "source": [
        "#@title ###**Upload the pre-trained models** { display-mode: \"form\" }\n",
        "!rm -rf models/disparity-estimation.pytorch\n",
        "!rm -rf models/disparity-refinement.pytorch\n",
        "!rm -rf models/pointcloud-inpainting.pytorch\n",
        "try:\n",
        "  !gdown https://drive.google.com/uc?id=1-0M3GAZkiOexs7gqgWuORzqYAp00DeE- -O ./models/disparity-estimation.pytorch\n",
        "  !gdown https://drive.google.com/uc?id=1-11KRkOKxqLmKOQk69PDMYbaem-3mH04 -O ./models/disparity-refinement.pytorch\n",
        "  !gdown https://drive.google.com/uc?id=1-1-VjUQHVDwxtLY9xn65c3LpKCeIW6jH -O ./models/pointcloud-inpainting.pytorch\n",
        "except BaseException:\n",
        "  !wget -O ./3d-ken-burns/models/disparity-estimation.pytorch http://content.sniklaus.com/kenburns/network-disparity.pytorch\n",
        "  !wget -O ./3d-ken-burns/models/disparity-refinement.pytorch http://content.sniklaus.com/kenburns/network-refinement.pytorch\n",
        "  !wget -O ./3d-ken-burns/models/pointcloud-inpainting.pytorch http://content.sniklaus.com/kenburns/network-inpainting.pytorch\n",
        "clear_output()"
      ],
      "execution_count": 0,
      "outputs": []
    },
    {
      "cell_type": "code",
      "metadata": {
        "id": "vIwOeaZnka8j",
        "colab_type": "code",
        "colab": {}
      },
      "source": [
        "#@title ###**Create Parallax Effect** { display-mode: \"form\" }\n",
        "!cp -r  ../photo.jpg ./images/photo.jpg\n",
        "!rm images/README.md\n",
        "!rm images/doublestrike.jpg\n",
        "!for image in ./images/*; do python autozoom.py --in $image --out ./results/$(basename $image | cut -f1 -d '.').mp4; done\n",
        "clear_output()\n",
        "#@markdown *To save a video, right-click on it and select* **Save**\n",
        "display(mpy.ipython_display(\"results/photo.mp4\", height=400, autoplay=1, loop=1))"
      ],
      "execution_count": 0,
      "outputs": []
    },
    {
      "cell_type": "code",
      "metadata": {
        "id": "_3S6pFCXmw4H",
        "colab_type": "code",
        "colab": {}
      },
      "source": [
        "#@title ###**Exit 3D Ken Burns** { display-mode: \"form\" }\n",
        "#@markdown *If you are going to continue to carry out the following points, then first of all, be sure to complete this block!*\n",
        "!cp -r results/photo.mp4 ../parallax_video.mp4\n",
        "!cp -r results/photo.mp4 ../video.mp4\n",
        "%cd ..\n",
        "clear_output()"
      ],
      "execution_count": 0,
      "outputs": []
    }
  ]
}